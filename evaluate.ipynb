{
 "cells": [
  {
   "cell_type": "markdown",
   "metadata": {
    "id": "7rMcGf3r6zby"
   },
   "source": [
    "# Question Answering over Resources\n",
    "The notebook is based on https://python.langchain.com/en/latest/modules/chains/index_examples/qa_with_sources.html"
   ]
  },
  {
   "cell_type": "markdown",
   "metadata": {
    "id": "IAYYChTe6zb1"
   },
   "source": [
    "## Prepare Data"
   ]
  },
  {
   "cell_type": "code",
   "execution_count": 16,
   "metadata": {
    "id": "FimqAIgc6zb2"
   },
   "outputs": [
    {
     "name": "stdout",
     "output_type": "stream",
     "text": [
      "Enter the token for Google Bard········\n",
      "Enter the token for OpenAI········\n"
     ]
    }
   ],
   "source": [
    "from langchain.embeddings.openai import OpenAIEmbeddings\n",
    "from langchain.embeddings.cohere import CohereEmbeddings\n",
    "from langchain.text_splitter import CharacterTextSplitter\n",
    "from langchain.vectorstores.elastic_vector_search import ElasticVectorSearch\n",
    "from langchain.vectorstores import Chroma\n",
    "from langchain.docstore.document import Document\n",
    "from langchain.prompts import PromptTemplate\n",
    "import numpy as np\n",
    "import os\n",
    "from langchain.llms import OpenAI\n",
    "\n",
    "import getpass\n",
    "from bardapi import Bard\n",
    "import os\n",
    "\n",
    "bard_token = getpass.getpass(\"Enter the token for Google Bard\")\n",
    "openai_token = getpass.getpass(\"Enter the token for OpenAI\")\n",
    "# Input OpenAI API Key Here\n",
    "os.environ[\"OPENAI_API_KEY\"] = openai_token"
   ]
  },
  {
   "cell_type": "code",
   "execution_count": 17,
   "metadata": {
    "colab": {
     "base_uri": "https://localhost:8080/"
    },
    "id": "kvJlaM8n7k_R",
    "outputId": "20f32fe4-2c9f-47d1-8567-0852f2e11e2d"
   },
   "outputs": [
    {
     "name": "stdout",
     "output_type": "stream",
     "text": [
      "35\n",
      "The Normans (Norman: Nourmands; French: Normands; Latin: Normanni) were the people who in the 10th and 11th centuries gave their name to Normandy, a region in France. They were descended from Norse (\"Norman\" comes from \"Norseman\") raiders and pirates from Denmark, Iceland and Norway who, under their leader Rollo, agreed to swear fealty to King Charles III of West Francia. Through generations of assimilation and mixing with the native Frankish and Roman-Gaulish populations, their descendants would gradually merge with the Carolingian-based cultures of West Francia. The distinct cultural and ethnic identity of the Normans emerged initially in the first half of the 10th century, and it continued to evolve over the succeeding centuries.\n"
     ]
    }
   ],
   "source": [
    "import json\n",
    "\n",
    "with open('test_data.json', 'r') as f:\n",
    "    data = json.load(f)\n",
    "data = data['data']\n",
    "num = len(data)\n",
    "print(num)\n",
    "# print(data[0]['paragraphs'][0]['qas'][0])\n",
    "print(data[0]['paragraphs'][0]['context'])"
   ]
  },
  {
   "cell_type": "code",
   "execution_count": 18,
   "metadata": {},
   "outputs": [],
   "source": [
    "# ==========\n",
    "# QUESTION: In what country is Normandy located?\n",
    "# ANSWER1: France\n",
    "# ANSWER2: Normandy is located in France.\n",
    "# RESPONSE: Yes\n",
    "# ==========\n",
    "# QUESTION: From which countries did the Norse originate?\n",
    "# ANSWER1: Denmark, Iceland and Norway \n",
    "# ANSWER2: The Norse who originated the Normans came from Denmark, Iceland, and Norway.\n",
    "# RESPONSE: Yes\n",
    "# ==========\n",
    "# QUESTION: What is France a region of?\n",
    "# ANSWER1: No relevant information found \n",
    "# ANSWER2: Sorry, I don't know.\n",
    "# RESPONSE: Yes\n",
    "# =========\n",
    "# QUESTION: What is France a region of?\n",
    "# ANSWER1: No relevant information found \n",
    "# ANSWER2: France is a region of Normandy.\n",
    "# RESPONSE: No\n",
    "# =========\n",
    "\n",
    "#Along with the answer, please also give a confidence score from 1 to 10 about how confident you are about your answer.\n",
    "\n",
    "eval_text_template = '''\n",
    "You are not allowed to use any outside knowledge. You can only use what is given to you. Given one question and two answers, please response whether these ANSWER1 and ANSWER2 have the same meaning under the given question. \n",
    "The only output you can give is either \"Yes\" or \"No\". Please output only one single word. No explanation needed.\n",
    "If ANSWER1 says \"No relevant information found\", you can only say \"yes\" when ANSWER2 also indicates the question cannot be answered. \n",
    "\n",
    "QUESTION: {question}\n",
    "ANSWER1: {answer}\n",
    "ANSWER2: {res_text}\n",
    "'''\n",
    "\n",
    "# ask_template = '''\n",
    "# Please answer the following question only based on the given context. Do NOT use any outside knowledge. \n",
    "# If you are unsure about the answer or you cannot find the information to answer your question, you must say \"Sorry, I cannot answer this question\"\n",
    "# ==========\n",
    "# QUESTION: In what country is Normandy located?\n",
    "# RESPONSE: France\n",
    "# ==========\n",
    "\n",
    "# QUESTION: What is France a region of?\n",
    "# RESPONSE: Sorry, I cannot answer this question\n",
    "# =========\n",
    "# QUESTION: {question}\n",
    "# RESPONSE: \n",
    "# '''\n",
    "\n",
    "from langchain import PromptTemplate\n",
    "\n",
    "template = \"\"\"Answer the question based on the context below. If the\n",
    "question cannot be answered using the information provided answer\n",
    "with \"I don't know\".\n",
    "\n",
    "Context: {context}\n",
    "\n",
    "Question: {query}\n",
    "\n",
    "Answer: \"\"\"\n",
    "\n",
    "prompt_template = PromptTemplate(\n",
    "    input_variables=[\"context\", \"query\"],\n",
    "    template=template\n",
    ")\n"
   ]
  },
  {
   "cell_type": "code",
   "execution_count": 7,
   "metadata": {
    "id": "_NhDW6QV6zb3"
   },
   "outputs": [
    {
     "name": "stdout",
     "output_type": "stream",
     "text": [
      "France.||||Sure, I can do that. The paragraph you provided states that Normandy is a region in France. Therefore, the answer to the question \"In what country is Normandy located?\" is **France**.\n",
      "\n",
      "The paragraph also states that the Normans were descended from Norse raiders and pirates from Denmark, Iceland, and Norway. However, the Normans eventually settled in Normandy, France, and their descendants merged with the Carolingian-based cultures of West Francia. As a result, Normandy is now a part of France.\n",
      "question: In what country is Normandy located?\n",
      "answer:France \n",
      "response:France.\n",
      " Correctness:**Yes**\n",
      "\n",
      "Both ANSWER1 and ANSWER2 state that Normandy is located in France. ANSWER1 is shorter and more concise, while ANSWER2 provides more emphasis on the word \"France\". However, both answers convey the same meaning.\n",
      "\n",
      "\n",
      "\n",
      "The Normans were in Normandy in the 10th and 11th centuries.||||Sure, I can answer that question. The paragraph you provided states that the Normans were in Normandy from the 10th to the 11th centuries. The first recorded settlement of the Normans in Normandy was in 911, when Rollo, the leader of the Norsemen, agreed to swear fealty to King Charles III of West Francia. The Normans continued to settle in Normandy throughout the 10th century, and by the 11th century, they had become a distinct cultural and ethnic group. The Normans played a significant role in European history, and their descendants went on to conquer England, Sicily, and parts of the Mediterranean.\n",
      "\n",
      "To answer your question more specifically, the Normans were in Normandy from **911 to 1204**. In 1204, Normandy was conquered by the French king Philip II Augustus. However, the Normans continued to maintain their distinct identity and culture, and they played an important role in French history.\n",
      "question: When were the Normans in Normandy?\n",
      "answer:10th and 11th centuries \n",
      "response:The Normans were in Normandy in the 10th and 11th centuries.\n",
      " Correctness:**Yes**\n",
      "\n",
      "Both ANSWER1 and ANSWER2 state that the Normans were in Normandy in the 10th and 11th centuries. ANSWER1 is simply a shorter version of ANSWER2. They both convey the same meaning, so they are semantically equivalent.\n",
      "\n",
      "\n",
      "\n",
      "Denmark, Iceland, and Norway.||||Sure, I can answer that question. The paragraph you provided states that the Norse originated from **Denmark, Iceland, and Norway**. The Norse were a group of Germanic people who lived in Scandinavia during the Viking Age. They were known for their seafaring skills, and they often raided and traded throughout Europe. The Norse eventually settled in Normandy, France, and their descendants became known as the Normans.\n",
      "\n",
      "Here is a more detailed answer to your question:\n",
      "\n",
      "* **Denmark:** The Danish Vikings were the most active of the Norse groups, and they raided and traded throughout Europe. They were also the first Norse group to settle in Normandy, France.\n",
      "* **Iceland:** The Icelandic Vikings were a more isolated group, and they settled in Iceland in the 9th century. They are known for their unique culture and language, which is a combination of Old Norse and Old Icelandic.\n",
      "* **Norway:** The Norwegian Vikings were also active raiders and traders, and they settled in many parts of Europe, including England, Ireland, and Scotland. They are known for their seafaring skills and their bravery.\n",
      "\n",
      "The Norse were a diverse group of people, but they shared a common culture and language. They were also skilled warriors and sailors, and they played an important role in the history of Europe.\n",
      "question: From which countries did the Norse originate?\n",
      "answer:Denmark, Iceland and Norway \n",
      "response:Denmark, Iceland, and Norway.\n",
      " Correctness:Yes.\n",
      "\n",
      "Both ANSWER1 and ANSWER2 state that the Norse originated from Denmark, Iceland, and Norway. The only difference is that ANSWER2 includes a period at the end of the list of countries. This does not change the meaning of the answer, so the two answers are semantically equivalent.\n",
      "\n",
      "\n",
      "\n",
      "The Norse leader was Rollo.||||The paragraph you provided states that the Norse leader was **Rollo**. Rollo was a Viking chief who led the Norsemen to Normandy in 911. He agreed to swear fealty to King Charles III of West Francia in exchange for a grant of land in Normandy. Rollo and his followers eventually became known as the Normans, and they played a significant role in European history.\n",
      "\n",
      "Here is a more detailed answer to your question:\n",
      "\n",
      "* **Rollo:** Rollo was a Danish Viking chief who led the Norsemen to Normandy in 911. He was a skilled warrior and leader, and he was able to defeat the Franks and establish a Norse kingdom in Normandy. Rollo was also known for his ruthlessness, and he earned the nickname \"Rollo the Ganger\" for his tendency to walk over the bodies of his enemies.\n",
      "\n",
      "The Norse were a diverse group of people, but they shared a common culture and language. They were also skilled warriors and sailors, and they played an important role in the history of Europe. Rollo was one of the most important Norse leaders, and he helped to shape the development of Normandy and Europe.\n",
      "\n",
      "I hope this answers your question. Let me know if you have any other questions.\n",
      "question: Who was the Norse leader?\n",
      "answer:Rollo \n",
      "response:The Norse leader was Rollo.\n",
      " Correctness:**Yes**, ANSWER1 and ANSWER2 have the same meaning under the given question. Both answers state that the Norse leader was Rollo.\n",
      "\n",
      "ANSWER1 is simply the name \"Rollo\", while ANSWER2 is a more complete sentence that states that Rollo was the Norse leader. However, both answers convey the same meaning.\n",
      "\n",
      "Therefore, both answers are semantically equivalent.\n",
      "\n",
      "\n",
      "\n",
      "The Normans first gained their separate identity in the first half of the 10th century.||||The paragraph you provided states that the Normans first gained their separate identity in the **first half of the 10th century**. This was when the Norsemen, who were descended from Vikings, settled in Normandy, France. They began to assimilate with the Frankish and Roman-Gaulish populations, and their descendants gradually developed a distinct cultural and ethnic identity. This identity was further shaped by the Norman conquest of England in 1066, which brought the Normans into contact with Anglo-Saxon culture.\n",
      "\n",
      "Here is a more detailed answer to your question:\n",
      "\n",
      "* **First half of the 10th century:** The Normans first gained their separate identity in the first half of the 10th century, when they began to assimilate with the Frankish and Roman-Gaulish populations in Normandy. This process of assimilation was gradual, and it took several centuries for the Normans to develop a distinct cultural and ethnic identity.\n",
      "* **Norman conquest of England:** The Norman conquest of England in 1066 brought the Normans into contact with Anglo-Saxon culture, which further shaped their identity. The Normans adopted many aspects of Anglo-Saxon culture, including their language, law, and customs. However, they also retained their own unique identity, and they continued to play an important role in European history.\n",
      "\n",
      "I hope this answers your question. Let me know if you have any other questions.\n",
      "question: What century did the Normans first gain their separate identity?\n",
      "answer:10th century \n",
      "response:The Normans first gained their separate identity in the first half of the 10th century.\n",
      " Correctness:Yes, ANSWER1 and ANSWER2 have the same meaning under the given question. ANSWER1 states that the Normans first gained their separate identity in the 10th century, while ANSWER2 states that they first gained their separate identity in the first half of the 10th century. Both answers convey the same meaning, so they are semantically equivalent.\n",
      "\n",
      "The only difference between the two answers is the level of detail. ANSWER1 is more concise, while ANSWER2 provides more information about the time period when the Normans first gained their separate identity. However, both answers answer the question correctly, so they are both acceptable.\n",
      "\n",
      "\n",
      "\n",
      "The Normans gave their name to Normandy in the 10th and 11th centuries.||||The people who gave their name to Normandy in the 1000's and 1100's were the **Normans**. The Normans were a group of people who descended from Norsemen, who were Vikings from Scandinavia. The Normans settled in Normandy in the 10th century, and their name eventually came to be used to refer to the region itself.\n",
      "\n",
      "The name \"Norman\" comes from the Old Norse word \"Norðmannr\", which means \"Northman\". The Normans were originally called this because they came from the north, from Scandinavia. However, after they settled in Normandy, they began to be called Normans because they were the people of Normandy.\n",
      "\n",
      "The Normans played an important role in European history. They conquered England in 1066, and they also conquered Sicily and parts of the Mediterranean. The Normans brought their own culture and language to these places, and they helped to shape the development of European civilization.\n",
      "\n",
      "So, to answer your question, the people who gave their name to Normandy in the 1000's and 1100's were the Normans. They were a group of people who descended from Norsemen, and they settled in Normandy in the 10th century. Their name eventually came to be used to refer to the region itself.\n"
     ]
    },
    {
     "name": "stdout",
     "output_type": "stream",
     "text": [
      "question: Who gave their name to Normandy in the 1000's and 1100's\n",
      "answer:I don't know \n",
      "response:The Normans gave their name to Normandy in the 10th and 11th centuries.\n",
      " Correctness:**No.** ANSWER1 does not have the same meaning as ANSWER2. ANSWER1 states that the answerer does not know who gave their name to Normandy in the 1000's and 1100's, while ANSWER2 states that the Normans gave their name to Normandy in the 10th and 11th centuries.\n",
      "\n",
      "ANSWER1 does not provide any information about who gave their name to Normandy, while ANSWER2 provides the specific answer that the Normans gave their name to Normandy. Therefore, ANSWER1 and ANSWER2 do not have the same meaning.\n",
      "\n",
      "\n",
      "\n",
      "I don't know.||||France is a country in Europe. It is not a region of any other country.\n",
      "\n",
      "The paragraph you provided states that the Normans were a people who settled in Normandy, a region in France. However, this does not mean that France is a region of another country. France is a sovereign country, and it is not part of any other country.\n",
      "question: What is France a region of?\n",
      "answer:I don't know \n",
      "response:I don't know.\n",
      " Correctness:**Yes.** ANSWER1 and ANSWER2 have the same meaning under the given question. Both answers state that the answerer does not know what region France is a part of.\n",
      "\n",
      "ANSWER1 and ANSWER2 are both grammatically correct and semantically equivalent. They both convey the same meaning, which is that the answerer does not know the answer to the question.\n",
      "\n",
      "Therefore, ANSWER1 and ANSWER2 have the same meaning under the given question.\n",
      "\n",
      "\n",
      "\n",
      "I don't know.||||King Charles III of West Francia did not swear fealty to anyone. He was the king of West Francia, which was a kingdom in Western Europe. He was the first Carolingian king to be crowned by the Pope, and he was known for his efforts to reform the Church. He was also a skilled diplomat, and he was able to maintain peace between the different factions in his kingdom.\n",
      "\n",
      "The paragraph you provided states that the Normans, under their leader Rollo, agreed to swear fealty to King Charles III of West Francia. This means that the Normans agreed to be subjects of King Charles III, and they promised to obey him. However, this does not mean that King Charles III swore fealty to anyone. He was the king of his own kingdom, and he was not subject to anyone else.\n",
      "question: Who did King Charles III swear fealty to?\n",
      "answer:I don't know \n",
      "response:I don't know\n",
      " Correctness:**Yes.** ANSWER1 and ANSWER2 have the same meaning under the given question. Both answers state that the answerer does not know who King Charles III swore fealty to.\n",
      "\n",
      "ANSWER1 and ANSWER2 are both grammatically correct and semantically equivalent. They both convey the same meaning, which is that the answerer does not know the answer to the question.\n",
      "\n",
      "Therefore, ANSWER1 and ANSWER2 have the same meaning under the given question. The output is **Yes**.\n",
      "\n",
      "\n",
      "\n",
      "I don't know.||||The Frankish identity emerged in the **3rd century**. The Franks were a Germanic people who lived along the lower Rhine River. They were originally divided into three tribes: the Salians, the Ripuarians, and the Chatti. However, they began to unite in the 3rd century, and they eventually formed a powerful kingdom. The Frankish identity was further solidified by the reign of Charlemagne, who was crowned Holy Roman Emperor in 800. Charlemagne's empire included much of Western Europe, and he helped to spread the Frankish culture and language.\n",
      "\n",
      "The paragraph you provided states that the Normans were descended from Norsemen, who were Vikings from Scandinavia. The Normans settled in Normandy in the 10th century, and their name eventually came to be used to refer to the region itself. However, the Frankish identity had already emerged by this time, and it continued to be a major force in European history for centuries to come.\n",
      "question: When did the Frankish identity emerge?\n",
      "answer:I don't know \n",
      "response:I don't know\n",
      " Correctness:**Yes.** ANSWER1 and ANSWER2 have the same meaning under the given question. Both answers state that the answerer does not know when the Frankish identity emerged.\n",
      "\n",
      "ANSWER1 and ANSWER2 are both grammatically correct and semantically equivalent. They both convey the same meaning, which is that the answerer does not know the answer to the question.\n",
      "\n",
      "Therefore, ANSWER1 and ANSWER2 have the same meaning under the given question. The output is **Yes**.\n",
      "\n",
      "\n",
      "\n",
      "acc: 1.0, hallucination: 0.75\n",
      "\n",
      "\n",
      "\n"
     ]
    }
   ],
   "source": [
    "from langchain.chat_models import ChatOpenAI\n",
    "from langchain.chains.qa_with_sources import load_qa_with_sources_chain\n",
    "from bardapi import Bard\n",
    "import time\n",
    "hallucination = []\n",
    "acc = []\n",
    "\n",
    "# model = ChatOpenAI(temperature=0, model_name='gpt-3.5-turbo')\n",
    "model = OpenAI(temperature=0, model_name=\"gpt-3.5-turbo\",)\n",
    "chain = load_qa_with_sources_chain(model, chain_type=\"stuff\")\n",
    "# chain = load_qa_with_sources_chain(model, chain_type=\"map_reduce\")\n",
    "evaluator = Bard(token=bard_token)\n",
    "bard = Bard(token=bard_token)\n",
    "for i in range(num):\n",
    "    for j in range(len(data[0]['paragraphs'])):\n",
    "        text= data[i]['paragraphs'][j]['context']\n",
    "#         text_splitter = CharacterTextSplitter(chunk_size=1000, chunk_overlap=0)\n",
    "#         texts = text_splitter.split_text(text)\n",
    "#         embeddings = OpenAIEmbeddings()\n",
    "#         docsearch = Chroma.from_texts(texts, embeddings, metadatas=[{\"source\": str(i)} for i in range(len(texts))])\n",
    "        for k in range(len(data[i]['paragraphs'][j]['qas'])):\n",
    "            question = data[i]['paragraphs'][j]['qas'][k]['question']\n",
    "            if not data[i]['paragraphs'][j]['qas'][k]['is_impossible']:\n",
    "                answer = data[i]['paragraphs'][j]['qas'][k]['answers'][0]['text']\n",
    "                pos = data[i]['paragraphs'][j]['qas'][k]['answers'][0]['answer_start']\n",
    "            else:\n",
    "                answer = \"I don't know\"\n",
    "                pos = None\n",
    "            query = question\n",
    "#             docs = docsearch.similarity_search(query, n_results = 1)\n",
    "#             response = chain({\"input_documents\": docs, \"question\": ask_template.format(question=query)}, return_only_outputs=True)\n",
    "#             res_text = response['output_text'].split('\\n')[0]\n",
    "            in_text = prompt_template.format(context=text, query=question)\n",
    "            res_text = model(in_text)\n",
    "            \n",
    "            \n",
    "            \n",
    "            prompt = f\"I want you to work as a question answering machine over given documents. The documents you will be given is the following paragraph: {text}. Then, I want to you answer the question based on the given paragraph. The question is {query}\"\n",
    "\n",
    "            res_text2 = bard.get_answer(prompt)['content']\n",
    "            print(res_text+\"||||\"+res_text2)\n",
    "            time.sleep(1)\n",
    "            is_same = evaluator.get_answer(eval_text_template.format(question=question, answer=res_text2, res_text=res_text))['content']\n",
    "            if 'yes' not in is_same.lower():\n",
    "                res_text = \"I don't know\"\n",
    "            time.sleep(0.5)\n",
    "            result = evaluator.get_answer(eval_text_template.format(question=question, answer=answer, res_text=res_text))['content']\n",
    "            if not data[i]['paragraphs'][j]['qas'][k]['is_impossible']:\n",
    "                if 'yes' in result.lower():\n",
    "                    acc.append(1)\n",
    "                else:\n",
    "                    acc.append(0)\n",
    "            else:\n",
    "                if 'yes' in result.lower():\n",
    "                    hallucination.append(1)\n",
    "                else:\n",
    "                    hallucination.append(0)\n",
    "            print(f\"question: {question}\\nanswer:{answer} \\nresponse:{res_text}\\n Correctness:{result}\\n\\n\\n\")\n",
    "        print(f\"acc: {np.mean(acc)}, hallucination: {np.mean(hallucination)}\\n\\n\\n\")\n",
    "        break\n",
    "    break"
   ]
  },
  {
   "cell_type": "markdown",
   "metadata": {
    "id": "ZTJ4WEkX6zb4"
   },
   "source": [
    "## Bard"
   ]
  },
  {
   "cell_type": "code",
   "execution_count": null,
   "metadata": {},
   "outputs": [],
   "source": [
    "from bardapi import Bard\n",
    "import os\n",
    "\n"
   ]
  },
  {
   "cell_type": "code",
   "execution_count": null,
   "metadata": {},
   "outputs": [],
   "source": [
    "question = \"When were the Normans in Normandy?\"\n",
    "response = \"No relevant information found\"\n",
    "solution = \"The Normans gave their name to Normandy in the 10th and 11th centuries.\"\n",
    "\n",
    "\n",
    "\n",
    "Bard(token = token).get_answer(f\"Given the question:'{question}', do the following 2 statements have the same meaning? 1.{solution}, 2.{response}. Say yes if true. Otherwise, say no.\")['content']\n",
    "\n",
    "\n",
    "\n",
    "question = \"When was the French version of the word Norman first recorded?\"\n",
    "ans1 = \"No relevant information found \"\n",
    "ans2 = \"The French version of the word Norman was first recorded in Medieval Latin in the 9th century.\"\n",
    "\n",
    "res = bard.get_answer(f\"Answer the following question in a **single word**. Remember, **a single word**. Based on {question}, does {ans1} mean the same thing as {ans2}?\")['content']\n",
    "print(res)"
   ]
  },
  {
   "cell_type": "markdown",
   "metadata": {},
   "source": [
    "# Web Scrapper"
   ]
  },
  {
   "cell_type": "code",
   "execution_count": 4,
   "metadata": {},
   "outputs": [],
   "source": [
    "import pandas as pd\n",
    "import numpy as np\n",
    "import requests\n",
    "import json, collections, time, re, string, os\n",
    "from datetime import datetime\n",
    "\n",
    "import bs4\n",
    "from bs4 import BeautifulSoup"
   ]
  },
  {
   "cell_type": "code",
   "execution_count": 13,
   "metadata": {},
   "outputs": [],
   "source": [
    "def retrieve_url(url):\n",
    "    page = requests.get(url)\n",
    "    soup = BeautifulSoup(page.content, 'html.parser')\n",
    "    return soup\n",
    "def extract_nature_articles():\n",
    "    \"\"\"\n",
    "    Search for and parse all coronavirus-related News article from the Nature journal that were\n",
    "    published in a given period\n",
    "    \n",
    "    args:\n",
    "        start_date (str): the lower bound of the date range to filter articles,\n",
    "            has the format yyyy-mm-dd\n",
    "        end_date (str): the upper bound (inclusive) of the date range to filter articles,\n",
    "            has the format yyyy-mm-dd\n",
    "    \n",
    "    kwargs:\n",
    "        base_url (str): the home page url of Nature\n",
    "    \n",
    "    return:\n",
    "        List[str] : a list of article titles that meet the search criteria, ordered by\n",
    "            date and by title\n",
    "    \"\"\"\n",
    "    result = collections.OrderedDict()\n",
    "    url = \"https://www.nature.com/search?q=coronavirus&journal=nature&article_type=news&date_range=2023-2023&order=date_asc&title=coronavirus\"\n",
    "    soup = retrieve_url(url)\n",
    "    article_list = soup.find('ul', {'class':'app-article-list-row'}).find_all('li', {'class': \"app-article-list-row__item\"})\n",
    "    for item in article_list:\n",
    "        time = item.find('div', {'class': \"c-card__section\"}).find('time', {'class': 'c-meta__item'})['datetime']\n",
    "    \n",
    "        title = item.find('h3', {'class': \"c-card__title\"}).text.strip()\n",
    "        if time in result:\n",
    "            result[time].append(title)\n",
    "        else:\n",
    "            result[time] = [title]\n",
    "    temp = []\n",
    "    for titles in result.values():\n",
    "        temp.extend(sorted(titles))\n",
    "    return temp"
   ]
  },
  {
   "cell_type": "code",
   "execution_count": 14,
   "metadata": {},
   "outputs": [
    {
     "data": {
      "text/plain": [
       "['Coronavirus variant XBB.1.5 rises in the United States — is it a global threat?',\n",
       " 'The next worrisome coronavirus variant could come from China — will it get detected?',\n",
       " 'The next generation of coronavirus vaccines: a graphical guide',\n",
       " 'NIH reinstates grant for controversial coronavirus research']"
      ]
     },
     "execution_count": 14,
     "metadata": {},
     "output_type": "execute_result"
    }
   ],
   "source": [
    "extract_nature_articles()"
   ]
  },
  {
   "cell_type": "code",
   "execution_count": 30,
   "metadata": {},
   "outputs": [],
   "source": [
    "text1 = \"\"\"\n",
    "New SARS-CoV-2 variants arise and spread with great stealth, but that hasn’t stopped Africa’s genomic sleuths from spotting a host of these threats — and alerting the rest of the world. Now an analysis details how the rapid growth in Africa’s sequencing capacity has aided global SARS-CoV-2 surveillance1. It also reveals that most variants were imported into Africa more often than they were exported from the continent.\n",
    "\n",
    "The study, published in Science, shows that “African scientists can work together to produce high-level science”, says co-author Tulio de Oliveira, a bioinformatician at Stellenbosch University in South Africa. “Before, it was almost the norm that African scientists would work with a northern partner to produce that kind of level of science.”\n",
    "\n",
    "Homegrown talent\n",
    "In March 2020, during the early days of the pandemic, fewer than 15 of the 55 countries recognized by the African Union had the necessary infrastructure to sequence genomes. Now 39 have their own sequencing facilities. And what began as a small group of researchers in Africa meeting virtually has ballooned into a consortium involving more than 400 scientists and public-health officials from across the continent and beyond working together to track the spread of SARS-CoV-2 variants and monitor changes in the variants’ genomes.\n",
    "\n",
    "As the consortium grew, so too did the number of sequenced genomes from Africa. By mid-2021, group members had sequenced more than 10,000 SARS-CoV-2 genomes collected on the continent2. By March this year, the count had reached 100,000.\n",
    "\n",
    "The authors note that this marks a major milestone in African genomic surveillance. By comparison, only around 3,700 whole HIV genomes from Africa have been sequenced and publicly shared, although the virus has been circulating for decades.\n",
    "\n",
    "“This paper is incredible,” says Jeremy Kamil, a virologist at Louisiana State University Health Shreveport. “The world needs to see more collaborations like this.”\n",
    "\n",
    "Genomes from a total of 52 African countries have been deposited in GISAID, an online repository that is the world’s largest digital database of SARS-CoV-2 sequences. Some genomes were sequenced in the countries where they were sampled, some in other African countries and others in laboratories outside Africa.\n",
    "\n",
    "The researchers found that in-country sequencing offered a clear speed advantage. The median turnaround — the time between the collection of a specimen from an infected individual and the addition of a completed sequence to GISAID — for genomes sequenced locally was 51 days. Median turnaround was 90 days for samples sent to other African countries and 113 days for those sent to facilities elsewhere in the world (see ‘Home-ground advantage’).\n",
    "\n",
    "These findings “jumped out at me right away”, says Kamil. Speed is crucial when it comes to fighting the virus, he says. If a variant such as Omicron is allowed to spread for even two or three extra weeks before it’s noticed, the world’s already-slow systems for updating vaccines will have even less time to catch up, Kamil adds.\n",
    "\n",
    "The collection of 100,000 SARS-CoV-2 genomes enabled de Oliveira and his colleagues to map when and where variants were introduced into Africa and how they had spread. The Omicron variant, for example, was first detected in South Africa in November 2021. The researchers found that although the Omicron subvariant BA.1 was exported from Africa at least 55 times — primarily to Europe and North America — it was imported into Africa at least 69 times from Europe and 102 times from North America (see ‘Virus on the go’). These import events brought the variant to African countries outside of the southern part of the continent, says study co-author Eduan Wilkinson, a bioinformatician at Stellenbosch University.\n",
    "\n",
    "Overall, the team’s analyses indicated that most SARS-CoV-2 variants were more often introduced into Africa from other parts of the world than the other way around. “The ironic part was that Africa was punished a few times from discovery of variants,” de Oliveira says. “But a great majority of the variants, including most of the introductions of Omicron, did not come from Africa.”\n",
    "\n",
    "De Oliveira and his colleagues plan to adapt the existing sequencing infrastructure to monitor other infectious viruses and bacteria that are of concern in Africa, such as the tuberculosis bacterium, HIV and the Lassa and Ebola viruses. “We have a lot of pathogens to deal with,” de Oliveira says.\n",
    "\"\"\"\n",
    "\n",
    "text2 = \"\"\"\n",
    "The US National Institutes of Health (NIH) has reinstated a grant to a highly scrutinized research organization that studies bat coronaviruses — but the agency has placed several stipulations on the scope of the research and on the organization’s accounting practices.\n",
    "\n",
    "The move caps a years-long saga that has thrust the EcoHealth Alliance, a small non-profit organization in New York City, into the political fray for its collaborations with the Wuhan Institute of Virology (WIV) in China. In April 2020, after then-US-president Donald Trump hinted that SARS-CoV-2 originated in a WIV laboratory, the NIH terminated EcoHealth’s grant. Its goal was to study how coronaviruses, such as SARS-CoV-2, jump from bats to humans. A few months later, the NIH reinstated and immediately suspended the award until certain conditions were met that, at the time, EcoHealth said were impossible to complete.\n",
    "\n",
    "Researchers who spoke to Nature applaud the renewal, adding that this type of research is essential to avert the next pandemic. They claim that the NIH’s termination and subsequent suspension were politically motivated, and that, although long overdue, this renewal ends — for now — a drama-filled exchange between the agency and EcoHealth.\n",
    "\n",
    "“It’s about goddam time,” says Gerald Keusch, associate director of the National Emerging Infectious Diseases Laboratory at Boston University in Massachusetts, who organized researchers to push back against EcoHealth’s grant termination in 2020. “The integrity of science requires a barrier against political interference,” he says.\n",
    "\n",
    "The NIH “routinely considers processes and measures for strengthening [its] oversight over federal funds” and has been working with EcoHealth to strengthen its “administrative processes to meet NIH’s expectations”, says Amanda Fine, a spokesperson for the NIH in Washington DC.\n",
    "\n",
    "Lengthy list of conditions\n",
    "Although the organization will now be able to continue its bat coronavirus research for the first time since the saga began, the NIH placed an extensive list of restrictions on the four-year, US$2.9-million award. None of the researchers who spoke to Nature had ever seen a grant with so many stipulations.\n",
    "\n",
    "Among other things, EcoHealth is specifically forbidden from performing any in-country research in China, including with the WIV, or collecting any new samples from vertebrates — such as bats. The revised grant also mandates greater scrutiny of EcoHealth’s finances and accounting practices, driven in part by a federal watchdog report, released in January, finding that EcoHealth had misreported about $90,000 in expenses. The report also faulted the NIH for improperly terminating EcoHealth’s grant.\n",
    "\n",
    "Furthermore, EcoHealth will be forbidden from performing any work that is deemed by the NIH’s parent organization, the Department of Health and Human Services (HHS), to have the potential to enhance the virulence or transmission of a virus. This restriction stems, in part, from criticism that research done at the WIV and funded by an EcoHealth subaward qualified as ‘gain of function’ research.\n",
    "\n",
    "Disputed research\n",
    "Congressional Republicans have alleged that this research, which involved attaching spike proteins from wild bat coronaviruses to an unrelated virus to determine whether the wild pathogens could infect human airway cells, should have undergone HHS review. Anthony Fauci, then-director of the National Institute for Allergy and Infectious Diseases, has said the agency concluded that these experiments did not meet the bar to undergo such review, and noted that the WIV did not intend to enhance the viruses.\n",
    "\n",
    "Virologists say this type of research is essential for developing vaccines and therapeutics against emerging pathogens and for understanding how likely a pathogen is to spark a pandemic. The NIH and HHS have been finalizing guidance that will probably tighten the oversight of such research in the United States.\n",
    "\n",
    "“I don’t know if any other single grantee from NIH has been subjected to this level of oversight,” says Peter Daszak, president of the EcoHealth Alliance. Yet he is “positive and optimistic” about the grant restart, despite all the restrictions. A key priority for the newly released funds will be analysing nearly 300 partial or complete genomes of SARS-related coronaviruses from samples that the organization collected before the funding halt, he says.\n",
    "\n",
    "Third rail of virology\n",
    "These restrictions seem reasonable, in light of the enormous public attention to and scrutiny of gain-of-function research, says Lawrence Gostin, a health-law and policy specialist at Georgetown University in Washington DC. Still, Gostin says he is surprised the agency restarted its funding for EcoHealth, given that it has been the “third rail of politics” the past few years.\n",
    "\n",
    "Angela Rasmussen, a virologist at the University of Saskatchewan in Saskatoon, Canada, says she is pleasantly surprised to see the grant renewed, but worries about the “terrible precedent” that the NIH set by “arbitrarily” terminating an award on the basis of “unfounded rumours” regarding the origins of SARS-CoV-2. She hopes that these same restrictions will not apply to other scientists doing similar work, but is encouraged by the number of research groups that are now studying coronaviruses following the COVID-19 pandemic.\n",
    "\"\"\""
   ]
  },
  {
   "cell_type": "code",
   "execution_count": 33,
   "metadata": {},
   "outputs": [],
   "source": [
    "from langchain.chat_models import ChatOpenAI\n",
    "from langchain.chains.qa_with_sources import load_qa_with_sources_chain\n",
    "from bardapi import Bard\n",
    "import time\n",
    "model = OpenAI(temperature=0, model_name=\"gpt-3.5-turbo\",)\n",
    "chain = load_qa_with_sources_chain(model, chain_type=\"stuff\")\n",
    "question = 'Give separate summaries for each article'\n",
    "in_text = prompt_template.format(context=text1+\"\\n=====\\n\"+text2, query=question)\n",
    "res_text = model(in_text)"
   ]
  },
  {
   "cell_type": "code",
   "execution_count": 34,
   "metadata": {},
   "outputs": [
    {
     "data": {
      "text/plain": [
       "'Article 1: African scientists have played a crucial role in identifying and tracking new SARS-CoV-2 variants, with the number of sequenced genomes from Africa reaching 100,000 by March 2021. The study, published in Science, shows that African scientists can produce high-level science and work together to aid global SARS-CoV-2 surveillance. The authors note that most variants were imported into Africa more often than they were exported from the continent, and that in-country sequencing offered a clear speed advantage. The consortium of more than 400 scientists and public-health officials from across the continent and beyond plans to adapt the existing sequencing infrastructure to monitor other infectious viruses and bacteria that are of concern in Africa.\\n\\nArticle 2: The US National Institutes of Health (NIH) has reinstated a grant to the EcoHealth Alliance, a small non-profit organization in New York City, that studies bat coronaviruses. The move follows the termination and subsequent suspension of the grant in 2020 after then-US-president Donald Trump hinted that SARS-CoV-2 originated in a Wuhan laboratory. The NIH has placed several stipulations on the scope of the research and on the organization’s accounting practices, including forbidding any in-country research in China, greater scrutiny of EcoHealth’s finances and accounting practices, and forbidding any work that is deemed by the NIH’s parent organization, the Department of Health and Human Services (HHS), to have the potential to enhance the virulence or transmission of a virus.'"
      ]
     },
     "execution_count": 34,
     "metadata": {},
     "output_type": "execute_result"
    }
   ],
   "source": [
    "res_text"
   ]
  },
  {
   "cell_type": "code",
   "execution_count": null,
   "metadata": {},
   "outputs": [],
   "source": []
  }
 ],
 "metadata": {
  "colab": {
   "provenance": []
  },
  "kernelspec": {
   "display_name": "Python 3 (ipykernel)",
   "language": "python",
   "name": "python3"
  },
  "language_info": {
   "codemirror_mode": {
    "name": "ipython",
    "version": 3
   },
   "file_extension": ".py",
   "mimetype": "text/x-python",
   "name": "python",
   "nbconvert_exporter": "python",
   "pygments_lexer": "ipython3",
   "version": "3.11.3"
  },
  "vscode": {
   "interpreter": {
    "hash": "31f2aee4e71d21fbe5cf8b01ff0e069b9275f58929596ceb00d14d90e3e16cd6"
   }
  }
 },
 "nbformat": 4,
 "nbformat_minor": 1
}
