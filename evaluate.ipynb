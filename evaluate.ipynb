{
 "cells": [
  {
   "cell_type": "markdown",
   "metadata": {
    "id": "7rMcGf3r6zby"
   },
   "source": [
    "# Question Answering over Resources\n",
    "The notebook is based on https://python.langchain.com/en/latest/modules/chains/index_examples/qa_with_sources.html"
   ]
  },
  {
   "cell_type": "markdown",
   "metadata": {
    "id": "IAYYChTe6zb1"
   },
   "source": [
    "## Prepare Data"
   ]
  },
  {
   "cell_type": "code",
   "execution_count": 1,
   "metadata": {
    "id": "FimqAIgc6zb2"
   },
   "outputs": [
    {
     "name": "stdout",
     "output_type": "stream",
     "text": [
      "Enter the token for Google Bard········\n",
      "Enter the token for OpenAI········\n"
     ]
    }
   ],
   "source": [
    "from langchain.embeddings.openai import OpenAIEmbeddings\n",
    "from langchain.embeddings.cohere import CohereEmbeddings\n",
    "from langchain.text_splitter import CharacterTextSplitter\n",
    "from langchain.vectorstores.elastic_vector_search import ElasticVectorSearch\n",
    "from langchain.vectorstores import Chroma\n",
    "from langchain.docstore.document import Document\n",
    "from langchain.prompts import PromptTemplate\n",
    "import numpy as np\n",
    "import os\n",
    "from langchain.llms import OpenAI\n",
    "\n",
    "import getpass\n",
    "from bardapi import Bard\n",
    "import os\n",
    "\n",
    "bard_token = getpass.getpass(\"Enter the token for Google Bard\")\n",
    "openai_token = getpass.getpass(\"Enter the token for OpenAI\")\n",
    "# Input OpenAI API Key Here\n",
    "os.environ[\"OPENAI_API_KEY\"] = openai_token"
   ]
  },
  {
   "cell_type": "code",
   "execution_count": 2,
   "metadata": {
    "colab": {
     "base_uri": "https://localhost:8080/"
    },
    "id": "kvJlaM8n7k_R",
    "outputId": "20f32fe4-2c9f-47d1-8567-0852f2e11e2d"
   },
   "outputs": [
    {
     "name": "stdout",
     "output_type": "stream",
     "text": [
      "35\n",
      "The Normans (Norman: Nourmands; French: Normands; Latin: Normanni) were the people who in the 10th and 11th centuries gave their name to Normandy, a region in France. They were descended from Norse (\"Norman\" comes from \"Norseman\") raiders and pirates from Denmark, Iceland and Norway who, under their leader Rollo, agreed to swear fealty to King Charles III of West Francia. Through generations of assimilation and mixing with the native Frankish and Roman-Gaulish populations, their descendants would gradually merge with the Carolingian-based cultures of West Francia. The distinct cultural and ethnic identity of the Normans emerged initially in the first half of the 10th century, and it continued to evolve over the succeeding centuries.\n"
     ]
    }
   ],
   "source": [
    "import json\n",
    "\n",
    "with open('test_data.json', 'r') as f:\n",
    "    data = json.load(f)\n",
    "data = data['data']\n",
    "num = len(data)\n",
    "print(num)\n",
    "# print(data[0]['paragraphs'][0]['qas'][0])\n",
    "print(data[0]['paragraphs'][0]['context'])"
   ]
  },
  {
   "cell_type": "code",
   "execution_count": 4,
   "metadata": {},
   "outputs": [],
   "source": [
    "# ==========\n",
    "# QUESTION: In what country is Normandy located?\n",
    "# ANSWER1: France\n",
    "# ANSWER2: Normandy is located in France.\n",
    "# RESPONSE: Yes\n",
    "# ==========\n",
    "# QUESTION: From which countries did the Norse originate?\n",
    "# ANSWER1: Denmark, Iceland and Norway \n",
    "# ANSWER2: The Norse who originated the Normans came from Denmark, Iceland, and Norway.\n",
    "# RESPONSE: Yes\n",
    "# ==========\n",
    "# QUESTION: What is France a region of?\n",
    "# ANSWER1: No relevant information found \n",
    "# ANSWER2: Sorry, I don't know.\n",
    "# RESPONSE: Yes\n",
    "# =========\n",
    "# QUESTION: What is France a region of?\n",
    "# ANSWER1: No relevant information found \n",
    "# ANSWER2: France is a region of Normandy.\n",
    "# RESPONSE: No\n",
    "# =========\n",
    "\n",
    "#Along with the answer, please also give a confidence score from 1 to 10 about how confident you are about your answer.\n",
    "\n",
    "eval_text_template = '''\n",
    "You are not allowed to use any outside knowledge. You can only use what is given to you. Given one question and two answers, please response whether these ANSWER1 and ANSWER2 have the same meaning under the given question. \n",
    "The only output you can give is either \"Yes\" or \"No\". Please output only one single word. No explanation needed.\n",
    "If ANSWER1 says \"No relevant information found\", you can only say \"yes\" when ANSWER2 also indicates the question cannot be answered. \n",
    "\n",
    "QUESTION: {question}\n",
    "ANSWER1: {answer}\n",
    "ANSWER2: {res_text}\n",
    "'''\n",
    "\n",
    "# ask_template = '''\n",
    "# Please answer the following question only based on the given context. Do NOT use any outside knowledge. \n",
    "# If you are unsure about the answer or you cannot find the information to answer your question, you must say \"Sorry, I cannot answer this question\"\n",
    "# ==========\n",
    "# QUESTION: In what country is Normandy located?\n",
    "# RESPONSE: France\n",
    "# ==========\n",
    "\n",
    "# QUESTION: What is France a region of?\n",
    "# RESPONSE: Sorry, I cannot answer this question\n",
    "# =========\n",
    "# QUESTION: {question}\n",
    "# RESPONSE: \n",
    "# '''\n",
    "\n",
    "from langchain import PromptTemplate\n",
    "\n",
    "template = \"\"\"Answer the question based on the context below. If the\n",
    "question cannot be answered using the information provided answer\n",
    "with \"I don't know\".\n",
    "\n",
    "Context: {context}\n",
    "\n",
    "Question: {query}\n",
    "\n",
    "Answer: \"\"\"\n",
    "\n",
    "prompt_template = PromptTemplate(\n",
    "    input_variables=[\"context\", \"query\"],\n",
    "    template=template\n",
    ")\n"
   ]
  },
  {
   "cell_type": "code",
   "execution_count": 8,
   "metadata": {
    "id": "_NhDW6QV6zb3"
   },
   "outputs": [
    {
     "name": "stdout",
     "output_type": "stream",
     "text": [
      "question: In what country is Normandy located?\n",
      "answer:France \n",
      "response:France.\n",
      " Correctness:Yes.\n",
      "\n",
      "ANSWER1 and ANSWER2 both say that Normandy is located in France. The period at the end of ANSWER2 does not change the meaning of the answer.\n",
      "\n",
      "\n",
      "\n",
      "question: When were the Normans in Normandy?\n",
      "answer:10th and 11th centuries \n",
      "response:The Normans were in Normandy in the 10th and 11th centuries.\n",
      " Correctness:Yes.\n",
      "\n",
      "ANSWER1 and ANSWER2 both say that the Normans were in Normandy in the 10th and 11th centuries. The only difference is that ANSWER2 includes the word \"were\", which is not necessary to convey the meaning of the answer.\n",
      "\n",
      "\n",
      "\n",
      "question: From which countries did the Norse originate?\n",
      "answer:Denmark, Iceland and Norway \n",
      "response:Denmark, Iceland, and Norway.\n",
      " Correctness:Yes.\n",
      "\n",
      "ANSWER1 and ANSWER2 both list Denmark, Iceland, and Norway as the countries from which the Norse originated. The only difference is that ANSWER2 includes a comma after each country name, which is not necessary to convey the meaning of the answer.\n",
      "\n",
      "\n",
      "\n",
      "question: Who was the Norse leader?\n",
      "answer:Rollo \n",
      "response:The Norse leader was Rollo.\n",
      " Correctness:Yes.\n",
      "\n",
      "ANSWER1 and ANSWER2 both state that Rollo was the Norse leader. The only difference is that ANSWER2 includes the word \"was\", which is not necessary to convey the meaning of the answer.\n",
      "\n",
      "\n",
      "\n",
      "question: What century did the Normans first gain their separate identity?\n",
      "answer:10th century \n",
      "response:The Normans first gained their separate identity in the first half of the 10th century.\n",
      " Correctness:No.\n",
      "\n",
      "ANSWER1 only gives the century, while ANSWER2 specifies that the Normans gained their separate identity in the first half of the 10th century. Therefore, the two answers do not have the same meaning.\n",
      "\n",
      "The Normans first gained their separate identity in the first half of the 10th century, when a group of Vikings from Scandinavia settled in the region of Normandy in France. The Vikings were a seafaring people who had been raiding and colonizing coastal areas of Europe for centuries. In the 9th century, they began to settle in Normandy, and by the 10th century, they had become a distinct people with their own language, culture, and identity.\n",
      "\n",
      "The Normans were known for their military prowess, and they played a major role in the European Middle Ages. They conquered England in 1066, and they also ruled Sicily, southern Italy, and parts of the Middle East. The Normans left a lasting legacy on European culture, and their language, law, and architecture can still be seen today.\n",
      "\n",
      "\n",
      "\n",
      "question: Who gave their name to Normandy in the 1000's and 1100's\n",
      "answer:I don't know \n",
      "response:The Normans gave their name to Normandy in the 10th and 11th centuries.\n",
      " Correctness:No.\n",
      "\n",
      "ANSWER1 is a statement of uncertainty, while ANSWER2 is a statement of fact. ANSWER1 does not provide any information about who gave their name to Normandy in the 1000s and 1100s, while ANSWER2 specifically states that the Normans were the ones who gave their name to Normandy in that time period. Therefore, the two answers do not have the same meaning.\n",
      "\n",
      "\n",
      "\n",
      "question: What is France a region of?\n",
      "answer:I don't know \n",
      "response:I don't know.\n",
      " Correctness:Yes.\n",
      "\n",
      "ANSWER1 and ANSWER2 both state that the person does not know the answer to the question. The only difference is that ANSWER1 does not end with a period, while ANSWER2 does. However, this difference does not change the meaning of the answer.\n",
      "\n",
      "\n",
      "\n",
      "question: Who did King Charles III swear fealty to?\n",
      "answer:I don't know \n",
      "response:I don't know.\n",
      " Correctness:**Yes.**\n",
      "\n",
      "ANSWER1 and ANSWER2 both state that the person does not know the answer to the question. The only difference is that ANSWER1 does not end with a period, while ANSWER2 does. However, this difference does not change the meaning of the answer.\n",
      "\n",
      "King Charles III of the United Kingdom did not swear fealty to anyone. Fealty is a feudal concept, and the United Kingdom is a constitutional monarchy. This means that the monarch is not the head of state, but rather a figurehead who represents the country. The head of state is the Prime Minister, who is elected by the people.\n",
      "\n",
      "In the past, British monarchs did swear fealty to the Pope. However, this practice ended in the 16th century, when King Henry VIII broke with the Catholic Church and established the Church of England. Since then, British monarchs have sworn allegiance to the Church of England, but not to any individual.\n",
      "\n",
      "\n",
      "\n",
      "question: When did the Frankish identity emerge?\n",
      "answer:I don't know \n",
      "response:I don't know.\n",
      " Correctness:**Yes.**\n",
      "\n",
      "ANSWER1 and ANSWER2 both state that the person does not know the answer to the question. Therefore, they have the same meaning.\n",
      "\n",
      "The Frankish identity emerged in the 3rd century AD, when a group of Germanic tribes living along the Rhine River in what is now Germany and France began to coalesce into a single people. The Franks were a warrior culture, and they quickly became one of the most powerful forces in Western Europe. They conquered Gaul (modern-day France) in the 5th century, and they went on to establish the Carolingian Empire, which was one of the largest and most powerful empires in European history. The Frankish identity continued to evolve over the centuries, and it eventually gave rise to the modern French people.\n",
      "\n",
      "\n",
      "\n",
      "acc: 0.8, hallucination: 0.75\n",
      "\n",
      "\n",
      "\n"
     ]
    }
   ],
   "source": [
    "from langchain.chat_models import ChatOpenAI\n",
    "from langchain.chains.qa_with_sources import load_qa_with_sources_chain\n",
    "from bardapi import Bard\n",
    "\n",
    "hallucination = []\n",
    "acc = []\n",
    "\n",
    "# model = ChatOpenAI(temperature=0, model_name='gpt-3.5-turbo')\n",
    "model = OpenAI(temperature=0, model_name=\"gpt-3.5-turbo\",)\n",
    "chain = load_qa_with_sources_chain(model, chain_type=\"stuff\")\n",
    "# chain = load_qa_with_sources_chain(model, chain_type=\"map_reduce\")\n",
    "evaluator = Bard(token=bard_token)\n",
    "for i in range(num):\n",
    "    for j in range(len(data[0]['paragraphs'])):\n",
    "        text= data[i]['paragraphs'][j]['context']\n",
    "#         text_splitter = CharacterTextSplitter(chunk_size=1000, chunk_overlap=0)\n",
    "#         texts = text_splitter.split_text(text)\n",
    "#         embeddings = OpenAIEmbeddings()\n",
    "#         docsearch = Chroma.from_texts(texts, embeddings, metadatas=[{\"source\": str(i)} for i in range(len(texts))])\n",
    "        for k in range(len(data[i]['paragraphs'][j]['qas'])):\n",
    "            question = data[i]['paragraphs'][j]['qas'][k]['question']\n",
    "            if not data[i]['paragraphs'][j]['qas'][k]['is_impossible']:\n",
    "                answer = data[i]['paragraphs'][j]['qas'][k]['answers'][0]['text']\n",
    "                pos = data[i]['paragraphs'][j]['qas'][k]['answers'][0]['answer_start']\n",
    "            else:\n",
    "                answer = \"I don't know\"\n",
    "                pos = None\n",
    "            query = question\n",
    "#             docs = docsearch.similarity_search(query, n_results = 1)\n",
    "#             response = chain({\"input_documents\": docs, \"question\": ask_template.format(question=query)}, return_only_outputs=True)\n",
    "#             res_text = response['output_text'].split('\\n')[0]\n",
    "            in_text = prompt_template.format(context=text, query=question)\n",
    "            res_text = model(in_text)\n",
    "            result = evaluator.get_answer(eval_text_template.format(question=question, answer=answer, res_text=res_text))['content']\n",
    "            if not data[i]['paragraphs'][j]['qas'][k]['is_impossible']:\n",
    "                if 'yes' in result.lower():\n",
    "                    acc.append(1)\n",
    "                else:\n",
    "                    acc.append(0)\n",
    "            else:\n",
    "                if 'yes' in result.lower():\n",
    "                    hallucination.append(1)\n",
    "                else:\n",
    "                    hallucination.append(0)\n",
    "            print(f\"question: {question}\\nanswer:{answer} \\nresponse:{res_text}\\n Correctness:{result}\\n\\n\\n\")\n",
    "        print(f\"acc: {np.mean(acc)}, hallucination: {np.mean(hallucination)}\\n\\n\\n\")\n",
    "        break\n",
    "    break"
   ]
  },
  {
   "cell_type": "markdown",
   "metadata": {
    "id": "ZTJ4WEkX6zb4"
   },
   "source": [
    "## Bard"
   ]
  },
  {
   "cell_type": "code",
   "execution_count": null,
   "metadata": {},
   "outputs": [],
   "source": [
    "from bardapi import Bard\n",
    "import os\n",
    "\n"
   ]
  },
  {
   "cell_type": "code",
   "execution_count": null,
   "metadata": {},
   "outputs": [],
   "source": [
    "question = \"When were the Normans in Normandy?\"\n",
    "response = \"No relevant information found\"\n",
    "solution = \"The Normans gave their name to Normandy in the 10th and 11th centuries.\"\n",
    "\n",
    "\n",
    "\n",
    "Bard(token = token).get_answer(f\"Given the question:'{question}', do the following 2 statements have the same meaning? 1.{solution}, 2.{response}. Say yes if true. Otherwise, say no.\")['content']\n",
    "\n",
    "\n",
    "\n",
    "question = \"When was the French version of the word Norman first recorded?\"\n",
    "ans1 = \"No relevant information found \"\n",
    "ans2 = \"The French version of the word Norman was first recorded in Medieval Latin in the 9th century.\"\n",
    "\n",
    "res = bard.get_answer(f\"Answer the following question in a **single word**. Remember, **a single word**. Based on {question}, does {ans1} mean the same thing as {ans2}?\")['content']\n",
    "print(res)"
   ]
  },
  {
   "cell_type": "code",
   "execution_count": null,
   "metadata": {},
   "outputs": [],
   "source": []
  }
 ],
 "metadata": {
  "colab": {
   "provenance": []
  },
  "kernelspec": {
   "display_name": "Python 3 (ipykernel)",
   "language": "python",
   "name": "python3"
  },
  "language_info": {
   "codemirror_mode": {
    "name": "ipython",
    "version": 3
   },
   "file_extension": ".py",
   "mimetype": "text/x-python",
   "name": "python",
   "nbconvert_exporter": "python",
   "pygments_lexer": "ipython3",
   "version": "3.11.3"
  },
  "vscode": {
   "interpreter": {
    "hash": "31f2aee4e71d21fbe5cf8b01ff0e069b9275f58929596ceb00d14d90e3e16cd6"
   }
  }
 },
 "nbformat": 4,
 "nbformat_minor": 1
}
