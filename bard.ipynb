{
 "cells": [
  {
   "cell_type": "markdown",
   "metadata": {},
   "source": [
    "# Bard"
   ]
  },
  {
   "cell_type": "code",
   "execution_count": 1,
   "metadata": {},
   "outputs": [
    {
     "name": "stdout",
     "output_type": "stream",
     "text": [
      "Defaulting to user installation because normal site-packages is not writeable\n",
      "Requirement already satisfied: getpass4 in /Users/yangpan/Library/Python/3.9/lib/python/site-packages (0.0.14.1)\n",
      "Requirement already satisfied: bardapi in /Users/yangpan/Library/Python/3.9/lib/python/site-packages (0.1.11)\n",
      "Requirement already satisfied: caugetch in /Users/yangpan/Library/Python/3.9/lib/python/site-packages (from getpass4) (0.0.1)\n",
      "Requirement already satisfied: clipboard in /Users/yangpan/Library/Python/3.9/lib/python/site-packages (from getpass4) (0.0.4)\n",
      "Requirement already satisfied: colorama in /Users/yangpan/Library/Python/3.9/lib/python/site-packages (from getpass4) (0.4.5)\n",
      "Requirement already satisfied: pyperclip in /Users/yangpan/Library/Python/3.9/lib/python/site-packages (from getpass4) (1.8.2)\n",
      "Requirement already satisfied: requests in /Users/yangpan/Library/Python/3.9/lib/python/site-packages (from bardapi) (2.28.2)\n",
      "Requirement already satisfied: charset-normalizer<4,>=2 in /Users/yangpan/Library/Python/3.9/lib/python/site-packages (from requests->bardapi) (2.1.1)\n",
      "Requirement already satisfied: idna<4,>=2.5 in /Users/yangpan/Library/Python/3.9/lib/python/site-packages (from requests->bardapi) (3.3)\n",
      "Requirement already satisfied: urllib3<1.27,>=1.21.1 in /Users/yangpan/Library/Python/3.9/lib/python/site-packages (from requests->bardapi) (1.26.12)\n",
      "Requirement already satisfied: certifi>=2017.4.17 in /Users/yangpan/Library/Python/3.9/lib/python/site-packages (from requests->bardapi) (2022.6.15)\n"
     ]
    }
   ],
   "source": [
    "!pip3 install getpass4 bardapi"
   ]
  },
  {
   "cell_type": "code",
   "execution_count": 3,
   "metadata": {},
   "outputs": [],
   "source": [
    "import getpass\n",
    "from bardapi import Bard\n",
    "import os\n",
    "\n",
    "token = getpass.getpass(\"Enter the token for Google Bard\")\n",
    "bard = Bard(token=token)"
   ]
  },
  {
   "cell_type": "code",
   "execution_count": 7,
   "metadata": {},
   "outputs": [
    {
     "name": "stdout",
     "output_type": "stream",
     "text": [
      "Sure, here is the answer in a single word:\n",
      "\n",
      "**No**.\n",
      "\n",
      "\"No relevant information found\" means that there is no information available to answer the question. \"The French version of the word Norman was first recorded in Medieval Latin in the 9th century\" means that there is information available to answer the question.\n",
      "\n",
      "The two statements are not the same.\n"
     ]
    }
   ],
   "source": [
    "question = \"When was the French version of the word Norman first recorded?\"\n",
    "ans1 = \"No relevant information found \"\n",
    "ans2 = \"The French version of the word Norman was first recorded in Medieval Latin in the 9th century.\"\n",
    "\n",
    "res = bard.get_answer(f\"Answer the following question in a **single word**. Remember, **a single word**. Based on {question}, does {ans1} mean the same thing as {ans2}?\")['content']\n",
    "print(res)"
   ]
  }
 ],
 "metadata": {
  "kernelspec": {
   "display_name": "Python 3.9.6 64-bit",
   "language": "python",
   "name": "python3"
  },
  "language_info": {
   "codemirror_mode": {
    "name": "ipython",
    "version": 3
   },
   "file_extension": ".py",
   "mimetype": "text/x-python",
   "name": "python",
   "nbconvert_exporter": "python",
   "pygments_lexer": "ipython3",
   "version": "3.9.6"
  },
  "orig_nbformat": 4,
  "vscode": {
   "interpreter": {
    "hash": "31f2aee4e71d21fbe5cf8b01ff0e069b9275f58929596ceb00d14d90e3e16cd6"
   }
  }
 },
 "nbformat": 4,
 "nbformat_minor": 2
}
